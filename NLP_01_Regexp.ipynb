{
  "cells": [
    {
      "cell_type": "markdown",
      "metadata": {
        "id": "view-in-github",
        "colab_type": "text"
      },
      "source": [
        "<a href=\"https://colab.research.google.com/github/saharshhhh/NLP/blob/main/NLP_01_Regexp.ipynb\" target=\"_parent\"><img src=\"https://colab.research.google.com/assets/colab-badge.svg\" alt=\"Open In Colab\"/></a>"
      ]
    },
    {
      "cell_type": "code",
      "execution_count": 1,
      "id": "ca53a044",
      "metadata": {
        "id": "ca53a044"
      },
      "outputs": [],
      "source": [
        "import pandas as pd\n",
        "import numpy as np\n",
        "import re"
      ]
    },
    {
      "cell_type": "code",
      "execution_count": 2,
      "id": "5e7dd672",
      "metadata": {
        "colab": {
          "base_uri": "https://localhost:8080/"
        },
        "id": "5e7dd672",
        "outputId": "a4d725d2-62c1-4a3a-892b-94dd93982cef"
      },
      "outputs": [
        {
          "output_type": "execute_result",
          "data": {
            "text/plain": [
              "<re.Match object; span=(0, 4), match='Ravi'>"
            ]
          },
          "metadata": {},
          "execution_count": 2
        }
      ],
      "source": [
        "re.search('Ravi','Ravi is Ravidas exceptional student')"
      ]
    },
    {
      "cell_type": "code",
      "execution_count": 3,
      "id": "947df68b",
      "metadata": {
        "colab": {
          "base_uri": "https://localhost:8080/"
        },
        "id": "947df68b",
        "outputId": "0f5c7281-9eaa-46f8-d8ae-18426fb65537"
      },
      "outputs": [
        {
          "output_type": "stream",
          "name": "stdout",
          "text": [
            "Ravi\n"
          ]
        }
      ],
      "source": [
        "name=re.search('Ravi','Ravi is Ravidas exceptional student')\n",
        "print(name.group())"
      ]
    },
    {
      "cell_type": "markdown",
      "id": "0c9c1a17",
      "metadata": {
        "id": "0c9c1a17"
      },
      "source": [
        "# Definig function for regexp\n"
      ]
    },
    {
      "cell_type": "code",
      "execution_count": 4,
      "id": "3307a7eb",
      "metadata": {
        "id": "3307a7eb"
      },
      "outputs": [],
      "source": [
        "def find_pattern(text,pattern):\n",
        "    if re.search(pattern,text):\n",
        "        return re.search(pattern,text)\n",
        "    else:\n",
        "        return 'not found !'"
      ]
    },
    {
      "cell_type": "markdown",
      "id": "53cc6baf",
      "metadata": {
        "id": "53cc6baf"
      },
      "source": [
        "##  ?  : zero or one tells weather the pattern is present or absent"
      ]
    },
    {
      "cell_type": "code",
      "execution_count": 5,
      "id": "7804e875",
      "metadata": {
        "colab": {
          "base_uri": "https://localhost:8080/"
        },
        "id": "7804e875",
        "outputId": "c2f1d442-31b5-4137-908d-30ad1db6143b"
      },
      "outputs": [
        {
          "output_type": "execute_result",
          "data": {
            "text/plain": [
              "<re.Match object; span=(0, 1), match='a'>"
            ]
          },
          "metadata": {},
          "execution_count": 5
        }
      ],
      "source": [
        "find_pattern('ac','ab?')"
      ]
    },
    {
      "cell_type": "code",
      "execution_count": 6,
      "id": "052e4f91",
      "metadata": {
        "colab": {
          "base_uri": "https://localhost:8080/"
        },
        "id": "052e4f91",
        "outputId": "01ba5b84-b511-418d-9b91-efd7d2c1e758"
      },
      "outputs": [
        {
          "output_type": "execute_result",
          "data": {
            "text/plain": [
              "<re.Match object; span=(0, 2), match='ab'>"
            ]
          },
          "metadata": {},
          "execution_count": 6
        }
      ],
      "source": [
        "find_pattern(\"abc\",\"ab?\")"
      ]
    },
    {
      "cell_type": "code",
      "execution_count": 7,
      "id": "26ad0598",
      "metadata": {
        "colab": {
          "base_uri": "https://localhost:8080/"
        },
        "id": "26ad0598",
        "outputId": "5850b8df-2aec-47c6-e744-a289b6d8b170"
      },
      "outputs": [
        {
          "output_type": "execute_result",
          "data": {
            "text/plain": [
              "<re.Match object; span=(0, 2), match='ab'>"
            ]
          },
          "metadata": {},
          "execution_count": 7
        }
      ],
      "source": [
        "find_pattern('abbbc','abc?')"
      ]
    },
    {
      "cell_type": "code",
      "execution_count": 7,
      "id": "f27e1dcc",
      "metadata": {
        "id": "f27e1dcc"
      },
      "outputs": [],
      "source": []
    },
    {
      "cell_type": "markdown",
      "id": "40798d59",
      "metadata": {
        "id": "40798d59"
      },
      "source": [
        "##  *  : zero or more"
      ]
    },
    {
      "cell_type": "code",
      "execution_count": 8,
      "id": "a88e1008",
      "metadata": {
        "colab": {
          "base_uri": "https://localhost:8080/"
        },
        "id": "a88e1008",
        "outputId": "9340d640-5fab-4eb8-8a72-c05b256578d9"
      },
      "outputs": [
        {
          "output_type": "execute_result",
          "data": {
            "text/plain": [
              "<re.Match object; span=(0, 1), match='a'>"
            ]
          },
          "metadata": {},
          "execution_count": 8
        }
      ],
      "source": [
        "find_pattern('ac','ab*')"
      ]
    },
    {
      "cell_type": "code",
      "execution_count": 9,
      "id": "db964272",
      "metadata": {
        "colab": {
          "base_uri": "https://localhost:8080/"
        },
        "id": "db964272",
        "outputId": "8f7873c1-0606-4315-dc34-90ce442d8c65"
      },
      "outputs": [
        {
          "output_type": "execute_result",
          "data": {
            "text/plain": [
              "<re.Match object; span=(0, 2), match='ab'>"
            ]
          },
          "metadata": {},
          "execution_count": 9
        }
      ],
      "source": [
        "find_pattern('abc','ab*')"
      ]
    },
    {
      "cell_type": "code",
      "execution_count": 10,
      "id": "6774e8f2",
      "metadata": {
        "colab": {
          "base_uri": "https://localhost:8080/"
        },
        "id": "6774e8f2",
        "outputId": "47e3b044-bf41-4849-805b-e41b86f086d7"
      },
      "outputs": [
        {
          "output_type": "execute_result",
          "data": {
            "text/plain": [
              "<re.Match object; span=(0, 6), match='abbbbb'>"
            ]
          },
          "metadata": {},
          "execution_count": 10
        }
      ],
      "source": [
        "find_pattern('abbbbbc','ab*')"
      ]
    },
    {
      "cell_type": "markdown",
      "id": "e1362353",
      "metadata": {
        "id": "e1362353"
      },
      "source": [
        "##  +  : one or more"
      ]
    },
    {
      "cell_type": "code",
      "execution_count": 11,
      "id": "424db63f",
      "metadata": {
        "colab": {
          "base_uri": "https://localhost:8080/",
          "height": 35
        },
        "id": "424db63f",
        "outputId": "1a1968fa-6508-466f-a142-90f7eff200b4"
      },
      "outputs": [
        {
          "output_type": "execute_result",
          "data": {
            "text/plain": [
              "'not found !'"
            ],
            "application/vnd.google.colaboratory.intrinsic+json": {
              "type": "string"
            }
          },
          "metadata": {},
          "execution_count": 11
        }
      ],
      "source": [
        "find_pattern('ac','ab+')"
      ]
    },
    {
      "cell_type": "code",
      "execution_count": 12,
      "id": "94600f38",
      "metadata": {
        "colab": {
          "base_uri": "https://localhost:8080/"
        },
        "id": "94600f38",
        "outputId": "25123ff9-6c58-423c-e186-f98c5e746c67"
      },
      "outputs": [
        {
          "output_type": "execute_result",
          "data": {
            "text/plain": [
              "<re.Match object; span=(0, 2), match='ab'>"
            ]
          },
          "metadata": {},
          "execution_count": 12
        }
      ],
      "source": [
        "find_pattern('abc','ab+')"
      ]
    },
    {
      "cell_type": "code",
      "execution_count": 13,
      "id": "28bce761",
      "metadata": {
        "colab": {
          "base_uri": "https://localhost:8080/"
        },
        "id": "28bce761",
        "outputId": "08098609-1fa6-4026-dd25-d326549da3ab"
      },
      "outputs": [
        {
          "output_type": "execute_result",
          "data": {
            "text/plain": [
              "<re.Match object; span=(0, 7), match='abbbbbb'>"
            ]
          },
          "metadata": {},
          "execution_count": 13
        }
      ],
      "source": [
        "find_pattern('abbbbbbc','ab+')"
      ]
    },
    {
      "cell_type": "markdown",
      "id": "d6669930",
      "metadata": {
        "id": "d6669930"
      },
      "source": [
        "## {n}  present exactly for n  time"
      ]
    },
    {
      "cell_type": "code",
      "execution_count": 14,
      "id": "1867601d",
      "metadata": {
        "colab": {
          "base_uri": "https://localhost:8080/"
        },
        "id": "1867601d",
        "outputId": "a8fa737e-34fb-4709-aefa-a276f7b8697d"
      },
      "outputs": [
        {
          "output_type": "execute_result",
          "data": {
            "text/plain": [
              "<re.Match object; span=(0, 5), match='abbbb'>"
            ]
          },
          "metadata": {},
          "execution_count": 14
        }
      ],
      "source": [
        "find_pattern('abbbbbbc','ab{4}')"
      ]
    },
    {
      "cell_type": "code",
      "execution_count": 15,
      "id": "2f9d9171",
      "metadata": {
        "colab": {
          "base_uri": "https://localhost:8080/",
          "height": 35
        },
        "id": "2f9d9171",
        "outputId": "50a56e25-2e2f-4873-d355-f76c34f80f4d"
      },
      "outputs": [
        {
          "output_type": "execute_result",
          "data": {
            "text/plain": [
              "'not found !'"
            ],
            "application/vnd.google.colaboratory.intrinsic+json": {
              "type": "string"
            }
          },
          "metadata": {},
          "execution_count": 15
        }
      ],
      "source": [
        "find_pattern('abbc','ab{4}')"
      ]
    },
    {
      "cell_type": "code",
      "execution_count": 16,
      "id": "4ea4cae9",
      "metadata": {
        "colab": {
          "base_uri": "https://localhost:8080/"
        },
        "id": "4ea4cae9",
        "outputId": "f778b039-7f0f-4c6f-a63f-b51558577bf1"
      },
      "outputs": [
        {
          "output_type": "execute_result",
          "data": {
            "text/plain": [
              "<re.Match object; span=(0, 6), match='abbbbb'>"
            ]
          },
          "metadata": {},
          "execution_count": 16
        }
      ],
      "source": [
        "find_pattern('abbbbbbc','ab{3,5}')"
      ]
    },
    {
      "cell_type": "code",
      "execution_count": 17,
      "id": "d704db14",
      "metadata": {
        "colab": {
          "base_uri": "https://localhost:8080/",
          "height": 35
        },
        "id": "d704db14",
        "outputId": "0e4c2f8d-7b66-46a4-859d-94492a9fba83"
      },
      "outputs": [
        {
          "output_type": "execute_result",
          "data": {
            "text/plain": [
              "'not found !'"
            ],
            "application/vnd.google.colaboratory.intrinsic+json": {
              "type": "string"
            }
          },
          "metadata": {},
          "execution_count": 17
        }
      ],
      "source": [
        "find_pattern('abbbbbbc','ab{7,10}')"
      ]
    },
    {
      "cell_type": "code",
      "execution_count": 18,
      "id": "5a52f4f6",
      "metadata": {
        "colab": {
          "base_uri": "https://localhost:8080/"
        },
        "id": "5a52f4f6",
        "outputId": "69d3a700-5c84-44cf-b8e5-e531ce887922"
      },
      "outputs": [
        {
          "output_type": "execute_result",
          "data": {
            "text/plain": [
              "<re.Match object; span=(0, 7), match='abbbbbb'>"
            ]
          },
          "metadata": {},
          "execution_count": 18
        }
      ],
      "source": [
        "find_pattern('abbbbbbc','ab{,10}')"
      ]
    },
    {
      "cell_type": "code",
      "execution_count": 19,
      "id": "dde44735",
      "metadata": {
        "colab": {
          "base_uri": "https://localhost:8080/",
          "height": 35
        },
        "id": "dde44735",
        "outputId": "3bf0387c-23f7-4890-cfe7-2305fa7f48cd"
      },
      "outputs": [
        {
          "output_type": "execute_result",
          "data": {
            "text/plain": [
              "'not found !'"
            ],
            "application/vnd.google.colaboratory.intrinsic+json": {
              "type": "string"
            }
          },
          "metadata": {},
          "execution_count": 19
        }
      ],
      "source": [
        "find_pattern('abbbbbbc','ab{10,}')"
      ]
    },
    {
      "cell_type": "markdown",
      "id": "c91c167e",
      "metadata": {
        "id": "c91c167e"
      },
      "source": [
        "## Anchors ^"
      ]
    },
    {
      "cell_type": "code",
      "execution_count": 20,
      "id": "eb16c6ee",
      "metadata": {
        "colab": {
          "base_uri": "https://localhost:8080/"
        },
        "id": "eb16c6ee",
        "outputId": "37c4532f-59e0-4d71-97dc-f0e75a09df1f"
      },
      "outputs": [
        {
          "output_type": "execute_result",
          "data": {
            "text/plain": [
              "<re.Match object; span=(0, 1), match='J'>"
            ]
          },
          "metadata": {},
          "execution_count": 20
        }
      ],
      "source": [
        "find_pattern('James','^J')"
      ]
    },
    {
      "cell_type": "code",
      "execution_count": 21,
      "id": "c69dcbb1",
      "metadata": {
        "colab": {
          "base_uri": "https://localhost:8080/",
          "height": 35
        },
        "id": "c69dcbb1",
        "outputId": "68b3d4d7-54fc-46e7-da59-e388df5203df"
      },
      "outputs": [
        {
          "output_type": "execute_result",
          "data": {
            "text/plain": [
              "'not found !'"
            ],
            "application/vnd.google.colaboratory.intrinsic+json": {
              "type": "string"
            }
          },
          "metadata": {},
          "execution_count": 21
        }
      ],
      "source": [
        "find_pattern('Pramod','^J')"
      ]
    },
    {
      "cell_type": "code",
      "execution_count": 22,
      "id": "e88c2da2",
      "metadata": {
        "colab": {
          "base_uri": "https://localhost:8080/",
          "height": 35
        },
        "id": "e88c2da2",
        "outputId": "382cb96b-45fa-447e-afd4-4a4cc26d08ff"
      },
      "outputs": [
        {
          "output_type": "execute_result",
          "data": {
            "text/plain": [
              "'not found !'"
            ],
            "application/vnd.google.colaboratory.intrinsic+json": {
              "type": "string"
            }
          },
          "metadata": {},
          "execution_count": 22
        }
      ],
      "source": [
        "find_pattern('James','J$')"
      ]
    },
    {
      "cell_type": "code",
      "execution_count": 23,
      "id": "7b1603f0",
      "metadata": {
        "colab": {
          "base_uri": "https://localhost:8080/"
        },
        "id": "7b1603f0",
        "outputId": "860d0918-2b2a-442d-85c6-6b3be29110a4"
      },
      "outputs": [
        {
          "output_type": "execute_result",
          "data": {
            "text/plain": [
              "<re.Match object; span=(4, 5), match='s'>"
            ]
          },
          "metadata": {},
          "execution_count": 23
        }
      ],
      "source": [
        "find_pattern('James','s$')"
      ]
    },
    {
      "cell_type": "code",
      "execution_count": 24,
      "id": "5eef7d1e",
      "metadata": {
        "colab": {
          "base_uri": "https://localhost:8080/"
        },
        "id": "5eef7d1e",
        "outputId": "d85ce77e-ac4e-4524-9ff7-39e71ebe74e1"
      },
      "outputs": [
        {
          "output_type": "execute_result",
          "data": {
            "text/plain": [
              "True"
            ]
          },
          "metadata": {},
          "execution_count": 24
        }
      ],
      "source": [
        "'James'.startswith('J')"
      ]
    },
    {
      "cell_type": "code",
      "execution_count": 25,
      "id": "1283541e",
      "metadata": {
        "colab": {
          "base_uri": "https://localhost:8080/"
        },
        "id": "1283541e",
        "outputId": "0ebf8d01-63af-42e3-8a50-7ee56a2e30c9"
      },
      "outputs": [
        {
          "output_type": "execute_result",
          "data": {
            "text/plain": [
              "False"
            ]
          },
          "metadata": {},
          "execution_count": 25
        }
      ],
      "source": [
        "'James'.startswith('j')"
      ]
    },
    {
      "cell_type": "code",
      "execution_count": 26,
      "id": "438d95fc",
      "metadata": {
        "colab": {
          "base_uri": "https://localhost:8080/"
        },
        "id": "438d95fc",
        "outputId": "00172ead-9e81-4352-e77a-c07605b423a3"
      },
      "outputs": [
        {
          "output_type": "execute_result",
          "data": {
            "text/plain": [
              "False"
            ]
          },
          "metadata": {},
          "execution_count": 26
        }
      ],
      "source": [
        "'James'.startswith('l')"
      ]
    },
    {
      "cell_type": "code",
      "execution_count": 27,
      "id": "c8ccb6d4",
      "metadata": {
        "colab": {
          "base_uri": "https://localhost:8080/"
        },
        "id": "c8ccb6d4",
        "outputId": "163b5968-a1eb-40a7-8b79-be8491f2aa8f"
      },
      "outputs": [
        {
          "output_type": "execute_result",
          "data": {
            "text/plain": [
              "False"
            ]
          },
          "metadata": {},
          "execution_count": 27
        }
      ],
      "source": [
        "'James'.endswith('j')"
      ]
    },
    {
      "cell_type": "code",
      "execution_count": 28,
      "id": "295e139b",
      "metadata": {
        "colab": {
          "base_uri": "https://localhost:8080/"
        },
        "id": "295e139b",
        "outputId": "d6b0fc98-cc58-4c50-d3f3-f43007648084"
      },
      "outputs": [
        {
          "output_type": "execute_result",
          "data": {
            "text/plain": [
              "True"
            ]
          },
          "metadata": {},
          "execution_count": 28
        }
      ],
      "source": [
        "'James'.endswith('s')"
      ]
    },
    {
      "cell_type": "code",
      "execution_count": 28,
      "id": "1fc75e33",
      "metadata": {
        "id": "1fc75e33"
      },
      "outputs": [],
      "source": []
    },
    {
      "cell_type": "markdown",
      "id": "111634f1",
      "metadata": {
        "id": "111634f1"
      },
      "source": [
        "# Wildcard"
      ]
    },
    {
      "cell_type": "markdown",
      "id": "c5c4da25",
      "metadata": {
        "id": "c5c4da25"
      },
      "source": [
        "##  .  dot   any character"
      ]
    },
    {
      "cell_type": "code",
      "execution_count": 29,
      "id": "9b1eda89",
      "metadata": {
        "colab": {
          "base_uri": "https://localhost:8080/"
        },
        "id": "9b1eda89",
        "outputId": "50e1f08f-5ec6-44ca-bb99-5a5a9ff1ad30"
      },
      "outputs": [
        {
          "output_type": "execute_result",
          "data": {
            "text/plain": [
              "<re.Match object; span=(0, 1), match='J'>"
            ]
          },
          "metadata": {},
          "execution_count": 29
        }
      ],
      "source": [
        "find_pattern('James','.')"
      ]
    },
    {
      "cell_type": "code",
      "execution_count": 30,
      "id": "701aabf0",
      "metadata": {
        "colab": {
          "base_uri": "https://localhost:8080/"
        },
        "id": "701aabf0",
        "outputId": "cdd15bf1-45dd-4e64-d2f8-b0bfb1265943"
      },
      "outputs": [
        {
          "output_type": "execute_result",
          "data": {
            "text/plain": [
              "<re.Match object; span=(0, 1), match='k'>"
            ]
          },
          "metadata": {},
          "execution_count": 30
        }
      ],
      "source": [
        "find_pattern('kja679','.')"
      ]
    },
    {
      "cell_type": "code",
      "execution_count": 30,
      "id": "e5bdc1dc",
      "metadata": {
        "id": "e5bdc1dc"
      },
      "outputs": [],
      "source": []
    },
    {
      "cell_type": "code",
      "execution_count": 31,
      "id": "57434ca1",
      "metadata": {
        "colab": {
          "base_uri": "https://localhost:8080/"
        },
        "id": "57434ca1",
        "outputId": "abde72cf-f8fa-4226-b7c6-7995d457ead5"
      },
      "outputs": [
        {
          "output_type": "execute_result",
          "data": {
            "text/plain": [
              "<re.Match object; span=(0, 1), match='a'>"
            ]
          },
          "metadata": {},
          "execution_count": 31
        }
      ],
      "source": [
        "find_pattern('a','[abc]') #mentioned character in  list"
      ]
    },
    {
      "cell_type": "code",
      "execution_count": 32,
      "id": "358a3889",
      "metadata": {
        "colab": {
          "base_uri": "https://localhost:8080/"
        },
        "id": "358a3889",
        "outputId": "79fb8857-17d9-4338-c64c-bb8bd6edbfd8"
      },
      "outputs": [
        {
          "output_type": "execute_result",
          "data": {
            "text/plain": [
              "<re.Match object; span=(0, 1), match='c'>"
            ]
          },
          "metadata": {},
          "execution_count": 32
        }
      ],
      "source": [
        "find_pattern('c','[a-c]')  #mentioned character in range of list"
      ]
    },
    {
      "cell_type": "code",
      "execution_count": 32,
      "id": "06ae0960",
      "metadata": {
        "id": "06ae0960"
      },
      "outputs": [],
      "source": []
    },
    {
      "cell_type": "code",
      "execution_count": 33,
      "id": "0d78284b",
      "metadata": {
        "colab": {
          "base_uri": "https://localhost:8080/",
          "height": 35
        },
        "id": "0d78284b",
        "outputId": "1930cee9-a64e-4652-b06f-e0b5f832bbb1"
      },
      "outputs": [
        {
          "output_type": "execute_result",
          "data": {
            "text/plain": [
              "'not found !'"
            ],
            "application/vnd.google.colaboratory.intrinsic+json": {
              "type": "string"
            }
          },
          "metadata": {},
          "execution_count": 33
        }
      ],
      "source": [
        "find_pattern('a','[^abc]')  #other than ^ mentioned  characters"
      ]
    },
    {
      "cell_type": "code",
      "execution_count": 34,
      "id": "5fc90681",
      "metadata": {
        "colab": {
          "base_uri": "https://localhost:8080/",
          "height": 35
        },
        "id": "5fc90681",
        "outputId": "51ca1933-0ab5-4da2-a8d6-0a399d0d95b4"
      },
      "outputs": [
        {
          "output_type": "execute_result",
          "data": {
            "text/plain": [
              "'not found !'"
            ],
            "application/vnd.google.colaboratory.intrinsic+json": {
              "type": "string"
            }
          },
          "metadata": {},
          "execution_count": 34
        }
      ],
      "source": [
        "find_pattern('a','[^a-c]') #other than ^ a_c characters"
      ]
    },
    {
      "cell_type": "code",
      "execution_count": 35,
      "id": "aa427c21",
      "metadata": {
        "colab": {
          "base_uri": "https://localhost:8080/"
        },
        "id": "aa427c21",
        "outputId": "26466279-88a7-44e3-80b8-ee1de0381050"
      },
      "outputs": [
        {
          "output_type": "execute_result",
          "data": {
            "text/plain": [
              "<re.Match object; span=(0, 1), match='z'>"
            ]
          },
          "metadata": {},
          "execution_count": 35
        }
      ],
      "source": [
        "find_pattern('zfrgr','[^a-c]')  #other than ^ a_c characters"
      ]
    },
    {
      "cell_type": "markdown",
      "id": "95c82171",
      "metadata": {
        "id": "95c82171"
      },
      "source": [
        "## pattern                            matches\n",
        "\n",
        "\n",
        "    [abc]            matches either a b and c characters\n",
        "\n",
        "    [abcABC]              matches either a b and c A B and C characters\n",
        "\n",
        "    [a-z]               matches a to z\n",
        "\n",
        "    [A-Z]       matches capital A to Z\n",
        "\n",
        "    [0-9]       matches any number\n",
        "\n",
        "    \\s          [\\t\\n\\v\\f\\r]\n",
        "    \n",
        "    \\S          [^\\t\\n\\v\\f\\r]\n",
        "\n",
        "\n",
        "    \\d          [0-9]\n",
        "    \n",
        "    \\D          [^0-9]\n",
        "\n",
        "    \\w          [a-zA-Z0-9]\n",
        "\n",
        "    \\W          [^a-zA-Z0-9]"
      ]
    },
    {
      "cell_type": "markdown",
      "id": "62d7b20b",
      "metadata": {
        "id": "62d7b20b"
      },
      "source": [
        "* re.match()  determine if re matches at begining of string\n",
        "\n",
        "* re.search  scan trough the string and looking for any location where this re matches\n",
        "\n",
        "* re.finall() Find all the substring where re matches and return them as list\n",
        "\n",
        "* re.finditer  Find all the substring where re matches and return them as an iterator\n",
        "\n",
        "* re.sub()      ind all the substring where re matches and substitute them with given string"
      ]
    },
    {
      "cell_type": "code",
      "execution_count": 36,
      "id": "23832c2e",
      "metadata": {
        "id": "23832c2e"
      },
      "outputs": [],
      "source": [
        "def match_pattern(text,pattern):\n",
        "    if re.match(pattern,text):\n",
        "        return re.match(pattern,text)\n",
        "    else:\n",
        "        return 'not found !'"
      ]
    },
    {
      "cell_type": "code",
      "execution_count": 37,
      "id": "abfa4935",
      "metadata": {
        "colab": {
          "base_uri": "https://localhost:8080/",
          "height": 35
        },
        "id": "abfa4935",
        "outputId": "ef60040e-bcb9-4992-9780-026bbae1b622"
      },
      "outputs": [
        {
          "output_type": "execute_result",
          "data": {
            "text/plain": [
              "'not found !'"
            ],
            "application/vnd.google.colaboratory.intrinsic+json": {
              "type": "string"
            }
          },
          "metadata": {},
          "execution_count": 37
        }
      ],
      "source": [
        "match_pattern('abbc','b+') # begining string and quantifier"
      ]
    },
    {
      "cell_type": "code",
      "execution_count": 38,
      "id": "9f3dc947",
      "metadata": {
        "colab": {
          "base_uri": "https://localhost:8080/"
        },
        "id": "9f3dc947",
        "outputId": "d9eba238-cadc-468c-87c0-6500c8eefb54"
      },
      "outputs": [
        {
          "output_type": "execute_result",
          "data": {
            "text/plain": [
              "<re.Match object; span=(1, 3), match='bb'>"
            ]
          },
          "metadata": {},
          "execution_count": 38
        }
      ],
      "source": [
        "find_pattern('abbc','b+')"
      ]
    },
    {
      "cell_type": "code",
      "execution_count": 39,
      "id": "90d50294",
      "metadata": {
        "colab": {
          "base_uri": "https://localhost:8080/"
        },
        "id": "90d50294",
        "outputId": "36a5d681-7879-4518-abd9-108b8a6d1516"
      },
      "outputs": [
        {
          "output_type": "execute_result",
          "data": {
            "text/plain": [
              "<re.Match object; span=(0, 3), match='bbb'>"
            ]
          },
          "metadata": {},
          "execution_count": 39
        }
      ],
      "source": [
        "match_pattern('bbbcbfgf','b+')"
      ]
    },
    {
      "cell_type": "markdown",
      "id": "2ef6d28c",
      "metadata": {
        "id": "2ef6d28c"
      },
      "source": [
        "# Substitute re.sub()"
      ]
    },
    {
      "cell_type": "code",
      "execution_count": 40,
      "id": "812524d3",
      "metadata": {
        "colab": {
          "base_uri": "https://localhost:8080/"
        },
        "id": "812524d3",
        "outputId": "45703788-9818-4d98-f613-b49948826341"
      },
      "outputs": [
        {
          "output_type": "stream",
          "name": "stdout",
          "text": [
            "21 ramkrishna rd\n"
          ]
        }
      ],
      "source": [
        "text='21 ramkrishna road'\n",
        "print(re.sub('road','rd',text))"
      ]
    },
    {
      "cell_type": "code",
      "execution_count": 41,
      "id": "1b23c942",
      "metadata": {
        "colab": {
          "base_uri": "https://localhost:8080/"
        },
        "id": "1b23c942",
        "outputId": "b2a7fda0-7ccd-4b73-db3f-4b7841daf548"
      },
      "outputs": [
        {
          "output_type": "stream",
          "name": "stdout",
          "text": [
            " my nae is hgt rd\n"
          ]
        }
      ],
      "source": [
        "text=' my nae is hgt html'\n",
        "print(re.sub('html','rd',text))"
      ]
    },
    {
      "cell_type": "code",
      "execution_count": 42,
      "id": "26d5a31f",
      "metadata": {
        "colab": {
          "base_uri": "https://localhost:8080/"
        },
        "id": "26d5a31f",
        "outputId": "ffcedd66-c87b-4124-da8a-1c2a9deccb75"
      },
      "outputs": [
        {
          "output_type": "stream",
          "name": "stdout",
          "text": [
            "21 Ramkrishna Road\n"
          ]
        }
      ],
      "source": [
        "text='21 Ramkrishna Road'\n",
        "print(re.sub('road','rd',text))"
      ]
    },
    {
      "cell_type": "code",
      "execution_count": 43,
      "id": "3e31874f",
      "metadata": {
        "colab": {
          "base_uri": "https://localhost:8080/"
        },
        "id": "3e31874f",
        "outputId": "ea3a46e8-6ed9-4d0b-832a-438cba7e7655"
      },
      "outputs": [
        {
          "output_type": "stream",
          "name": "stdout",
          "text": [
            "21 rd rd\n"
          ]
        }
      ],
      "source": [
        "text='21 ramkrishna road'\n",
        "print(re.sub('r\\w+','rd',text))"
      ]
    },
    {
      "cell_type": "code",
      "execution_count": 44,
      "id": "7d7f5e99",
      "metadata": {
        "colab": {
          "base_uri": "https://localhost:8080/"
        },
        "id": "7d7f5e99",
        "outputId": "77589012-9f40-4864-c9f7-5116f4107264"
      },
      "outputs": [
        {
          "output_type": "stream",
          "name": "stdout",
          "text": [
            "21 rdmkrdshna rdad\n"
          ]
        }
      ],
      "source": [
        "text='21 ramkrishna road'\n",
        "print(re.sub('r\\w','rd',text))"
      ]
    },
    {
      "cell_type": "markdown",
      "id": "ff5465b3",
      "metadata": {
        "id": "ff5465b3"
      },
      "source": [
        "# re.findall()"
      ]
    },
    {
      "cell_type": "code",
      "execution_count": 45,
      "id": "1292648d",
      "metadata": {
        "colab": {
          "base_uri": "https://localhost:8080/"
        },
        "id": "1292648d",
        "outputId": "7c967bba-da27-4053-a158-f1d183e6070e"
      },
      "outputs": [
        {
          "output_type": "execute_result",
          "data": {
            "text/plain": [
              "['45', '414001']"
            ]
          },
          "metadata": {},
          "execution_count": 45
        }
      ],
      "source": [
        "pattern='[0-9]+'\n",
        "text=' House no. 45, unique park , pune 414001 '\n",
        "re.findall(pattern,text)"
      ]
    },
    {
      "cell_type": "code",
      "execution_count": 46,
      "id": "eed14940",
      "metadata": {
        "colab": {
          "base_uri": "https://localhost:8080/"
        },
        "id": "eed14940",
        "outputId": "26fcbf63-e89b-4184-94f2-5d4088c5fdd8"
      },
      "outputs": [
        {
          "output_type": "execute_result",
          "data": {
            "text/plain": [
              "['45', '414001']"
            ]
          },
          "metadata": {},
          "execution_count": 46
        }
      ],
      "source": [
        "pattern1='[0-9]'\n",
        "text1=' House no. 45, unique park , pune 414001 '\n",
        "re.findall(pattern,text)"
      ]
    },
    {
      "cell_type": "code",
      "execution_count": 46,
      "id": "4dc6c6ff",
      "metadata": {
        "id": "4dc6c6ff"
      },
      "outputs": [],
      "source": []
    },
    {
      "cell_type": "code",
      "execution_count": 47,
      "id": "6919e4c0",
      "metadata": {
        "colab": {
          "base_uri": "https://localhost:8080/",
          "height": 35
        },
        "id": "6919e4c0",
        "outputId": "9d247b1b-5827-4cc8-aa46-5e772357a189"
      },
      "outputs": [
        {
          "output_type": "execute_result",
          "data": {
            "text/plain": [
              "'45'"
            ],
            "application/vnd.google.colaboratory.intrinsic+json": {
              "type": "string"
            }
          },
          "metadata": {},
          "execution_count": 47
        }
      ],
      "source": [
        "pattern='[0-9]+'\n",
        "text=' House no. 45, unique park , pune 414001 '\n",
        "match=re.search(pattern,text)\n",
        "match.group()"
      ]
    },
    {
      "cell_type": "code",
      "execution_count": 48,
      "id": "9ec76c97",
      "metadata": {
        "colab": {
          "base_uri": "https://localhost:8080/",
          "height": 35
        },
        "id": "9ec76c97",
        "outputId": "7f3f56e2-04da-4ca2-b7b6-859687009f85"
      },
      "outputs": [
        {
          "output_type": "execute_result",
          "data": {
            "text/plain": [
              "' House no. numbers, unique park , pune numbers '"
            ],
            "application/vnd.google.colaboratory.intrinsic+json": {
              "type": "string"
            }
          },
          "metadata": {},
          "execution_count": 48
        }
      ],
      "source": [
        "pattern='[0-9]+'\n",
        "text=' House no. 45, unique park , pune 414001 '\n",
        "re.sub(pattern,'numbers',text)"
      ]
    },
    {
      "cell_type": "code",
      "execution_count": 49,
      "id": "af6cca83",
      "metadata": {
        "colab": {
          "base_uri": "https://localhost:8080/",
          "height": 35
        },
        "id": "af6cca83",
        "outputId": "7f06c1e3-d228-43d3-d0dd-8d769156624d"
      },
      "outputs": [
        {
          "output_type": "execute_result",
          "data": {
            "text/plain": [
              "'H'"
            ],
            "application/vnd.google.colaboratory.intrinsic+json": {
              "type": "string"
            }
          },
          "metadata": {},
          "execution_count": 49
        }
      ],
      "source": [
        "pattern='[^0-9]'\n",
        "text='House no. 45, unique park , pune 414001 '\n",
        "match1=re.match(pattern,text)\n",
        "match1.group()"
      ]
    },
    {
      "cell_type": "code",
      "execution_count": 50,
      "id": "c72da082",
      "metadata": {
        "colab": {
          "base_uri": "https://localhost:8080/"
        },
        "id": "c72da082",
        "outputId": "aea20e67-48a6-4833-d430-f8e92b04d1ac"
      },
      "outputs": [
        {
          "output_type": "stream",
          "name": "stdout",
          "text": [
            "START :  12END :  20\n",
            "START :  42END :  50\n"
          ]
        }
      ],
      "source": [
        "text='Diwali is a festival of light , Holi is a festival of colors'\n",
        "pattern='festival'\n",
        "\n",
        "for match in re.finditer(pattern,text):\n",
        "    print('START : ',match.start(),end='')\n",
        "    print('END : ',match.end())"
      ]
    },
    {
      "cell_type": "code",
      "execution_count": 50,
      "id": "d75e1c59",
      "metadata": {
        "id": "d75e1c59"
      },
      "outputs": [],
      "source": []
    }
  ],
  "metadata": {
    "kernelspec": {
      "display_name": "Python 3 (ipykernel)",
      "language": "python",
      "name": "python3"
    },
    "language_info": {
      "codemirror_mode": {
        "name": "ipython",
        "version": 3
      },
      "file_extension": ".py",
      "mimetype": "text/x-python",
      "name": "python",
      "nbconvert_exporter": "python",
      "pygments_lexer": "ipython3",
      "version": "3.9.7"
    },
    "colab": {
      "provenance": [],
      "include_colab_link": true
    }
  },
  "nbformat": 4,
  "nbformat_minor": 5
}